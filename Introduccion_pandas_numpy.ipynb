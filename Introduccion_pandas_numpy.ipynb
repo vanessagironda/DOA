{
  "nbformat": 4,
  "nbformat_minor": 0,
  "metadata": {
    "colab": {
      "name": "Introduccion_pandas_numpy.ipynb",
      "provenance": [],
      "collapsed_sections": [],
      "include_colab_link": true
    },
    "kernelspec": {
      "name": "python3",
      "display_name": "Python 3"
    }
  },
  "cells": [
    {
      "cell_type": "markdown",
      "metadata": {
        "id": "view-in-github",
        "colab_type": "text"
      },
      "source": [
        "<a href=\"https://colab.research.google.com/github/vanessagironda/DOA/blob/master/Introduccion_pandas_numpy.ipynb\" target=\"_parent\"><img src=\"https://colab.research.google.com/assets/colab-badge.svg\" alt=\"Open In Colab\"/></a>"
      ]
    },
    {
      "cell_type": "markdown",
      "metadata": {
        "id": "JxBVEXeIWmFf"
      },
      "source": [
        "# Paquetes para ciencia de datos"
      ]
    },
    {
      "cell_type": "code",
      "metadata": {
        "id": "H5RpQ_HsPXrk"
      },
      "source": [
        "import pandas as pd\n",
        "import numpy as np"
      ],
      "execution_count": 2,
      "outputs": []
    },
    {
      "cell_type": "markdown",
      "metadata": {
        "id": "Fu_eQNk7WYja"
      },
      "source": [
        "# Importando datos"
      ]
    },
    {
      "cell_type": "code",
      "metadata": {
        "id": "R3kLFo75PbQa",
        "colab": {
          "base_uri": "https://localhost:8080/",
          "height": 206
        },
        "outputId": "d18fe8f6-0114-4f01-8f9c-d2477684e4b6"
      },
      "source": [
        "# importar datos en formato csv\n",
        "#https://github.com/vanessagironda/data_analytics.git\n",
        "#https://github.com/vanessagironda/data_analytics/blob/main/ejemplo.csv\n",
        "Empleados=pd.read_csv(\"https://raw.githubusercontent.com/AlcidesOxa/datos/master/ejemplo.csv\",sep=';',encoding=\"ISO-8859-1\")\n",
        "Empleados.head()\n",
        "Empleados.tail()"
      ],
      "execution_count": 4,
      "outputs": [
        {
          "output_type": "execute_result",
          "data": {
            "text/html": [
              "<div>\n",
              "<style scoped>\n",
              "    .dataframe tbody tr th:only-of-type {\n",
              "        vertical-align: middle;\n",
              "    }\n",
              "\n",
              "    .dataframe tbody tr th {\n",
              "        vertical-align: top;\n",
              "    }\n",
              "\n",
              "    .dataframe thead th {\n",
              "        text-align: right;\n",
              "    }\n",
              "</style>\n",
              "<table border=\"1\" class=\"dataframe\">\n",
              "  <thead>\n",
              "    <tr style=\"text-align: right;\">\n",
              "      <th></th>\n",
              "      <th>Nombres</th>\n",
              "      <th>Apellidos</th>\n",
              "      <th>Sexo</th>\n",
              "      <th>Edad</th>\n",
              "      <th>Años estudio</th>\n",
              "      <th>Ingresos</th>\n",
              "      <th>Gastos</th>\n",
              "      <th>Estado Civil</th>\n",
              "      <th>Satisfacción Trabajo</th>\n",
              "      <th>Fecha contrato</th>\n",
              "      <th>Faltas</th>\n",
              "      <th>Permisos</th>\n",
              "    </tr>\n",
              "  </thead>\n",
              "  <tbody>\n",
              "    <tr>\n",
              "      <th>25</th>\n",
              "      <td>Angélica</td>\n",
              "      <td>Troncoso</td>\n",
              "      <td>Mujer</td>\n",
              "      <td>47.0</td>\n",
              "      <td>17.0</td>\n",
              "      <td>10719.0</td>\n",
              "      <td>8121.0</td>\n",
              "      <td>Divorciado(a)</td>\n",
              "      <td>Regular</td>\n",
              "      <td>8/10/2019</td>\n",
              "      <td>NaN</td>\n",
              "      <td>NaN</td>\n",
              "    </tr>\n",
              "    <tr>\n",
              "      <th>26</th>\n",
              "      <td>Juan Carlos</td>\n",
              "      <td>Urriolagoitia Jiménez</td>\n",
              "      <td>Hombre</td>\n",
              "      <td>51.0</td>\n",
              "      <td>19.0</td>\n",
              "      <td>13491.0</td>\n",
              "      <td>11021.0</td>\n",
              "      <td>Divorciado(a)</td>\n",
              "      <td>Regular</td>\n",
              "      <td>13/4/2010</td>\n",
              "      <td>NaN</td>\n",
              "      <td>NaN</td>\n",
              "    </tr>\n",
              "    <tr>\n",
              "      <th>27</th>\n",
              "      <td>Carolina</td>\n",
              "      <td>Villarroel Guerrero</td>\n",
              "      <td>Mujer</td>\n",
              "      <td>43.0</td>\n",
              "      <td>13.0</td>\n",
              "      <td>7185.0</td>\n",
              "      <td>4260.0</td>\n",
              "      <td>Casado(a)</td>\n",
              "      <td>Bien</td>\n",
              "      <td>11/9/2013</td>\n",
              "      <td>NaN</td>\n",
              "      <td>NaN</td>\n",
              "    </tr>\n",
              "    <tr>\n",
              "      <th>28</th>\n",
              "      <td>Tamara Viviana</td>\n",
              "      <td>Zuñiga Fernández</td>\n",
              "      <td>Mujer</td>\n",
              "      <td>32.0</td>\n",
              "      <td>19.0</td>\n",
              "      <td>8632.0</td>\n",
              "      <td>7107.0</td>\n",
              "      <td>Casado(a)</td>\n",
              "      <td>Regular</td>\n",
              "      <td>6/9/2011</td>\n",
              "      <td>1.0</td>\n",
              "      <td>NaN</td>\n",
              "    </tr>\n",
              "    <tr>\n",
              "      <th>29</th>\n",
              "      <td>Ernesto</td>\n",
              "      <td>Zurita Ramallo</td>\n",
              "      <td>Hombre</td>\n",
              "      <td>55.0</td>\n",
              "      <td>5.0</td>\n",
              "      <td>3640.0</td>\n",
              "      <td>5528.0</td>\n",
              "      <td>Viudo(a)</td>\n",
              "      <td>NaN</td>\n",
              "      <td>NaN</td>\n",
              "      <td>NaN</td>\n",
              "      <td>NaN</td>\n",
              "    </tr>\n",
              "  </tbody>\n",
              "</table>\n",
              "</div>"
            ],
            "text/plain": [
              "           Nombres              Apellidos  ... Faltas  Permisos\n",
              "25        Angélica               Troncoso  ...    NaN       NaN\n",
              "26     Juan Carlos  Urriolagoitia Jiménez  ...    NaN       NaN\n",
              "27        Carolina    Villarroel Guerrero  ...    NaN       NaN\n",
              "28  Tamara Viviana       Zuñiga Fernández  ...    1.0       NaN\n",
              "29         Ernesto         Zurita Ramallo  ...    NaN       NaN\n",
              "\n",
              "[5 rows x 12 columns]"
            ]
          },
          "metadata": {
            "tags": []
          },
          "execution_count": 4
        }
      ]
    },
    {
      "cell_type": "code",
      "metadata": {
        "colab": {
          "base_uri": "https://localhost:8080/",
          "height": 540
        },
        "id": "OMpC4Vp20hpj",
        "outputId": "ab0e6e6a-c1d0-404a-8ad3-62d5d9d60a46"
      },
      "source": [
        "Empleados=pd.read_csv(\"https://github.com/vanessagironda/data_analytics/blob/main/ejemploA.csv\",sep=';',encoding=\"ISO-8859-1\")\r\n",
        "Empleados.head()\r\n",
        "Empleados.tail()"
      ],
      "execution_count": 5,
      "outputs": [
        {
          "output_type": "error",
          "ename": "ParserError",
          "evalue": "ignored",
          "traceback": [
            "\u001b[0;31m---------------------------------------------------------------------------\u001b[0m",
            "\u001b[0;31mParserError\u001b[0m                               Traceback (most recent call last)",
            "\u001b[0;32m<ipython-input-5-13dc80b5c69e>\u001b[0m in \u001b[0;36m<module>\u001b[0;34m()\u001b[0m\n\u001b[0;32m----> 1\u001b[0;31m \u001b[0mEmpleados\u001b[0m\u001b[0;34m=\u001b[0m\u001b[0mpd\u001b[0m\u001b[0;34m.\u001b[0m\u001b[0mread_csv\u001b[0m\u001b[0;34m(\u001b[0m\u001b[0;34m\"https://github.com/vanessagironda/data_analytics/blob/main/ejemploA.csv\"\u001b[0m\u001b[0;34m,\u001b[0m\u001b[0msep\u001b[0m\u001b[0;34m=\u001b[0m\u001b[0;34m';'\u001b[0m\u001b[0;34m,\u001b[0m\u001b[0mencoding\u001b[0m\u001b[0;34m=\u001b[0m\u001b[0;34m\"ISO-8859-1\"\u001b[0m\u001b[0;34m)\u001b[0m\u001b[0;34m\u001b[0m\u001b[0;34m\u001b[0m\u001b[0m\n\u001b[0m\u001b[1;32m      2\u001b[0m \u001b[0mEmpleados\u001b[0m\u001b[0;34m.\u001b[0m\u001b[0mhead\u001b[0m\u001b[0;34m(\u001b[0m\u001b[0;34m)\u001b[0m\u001b[0;34m\u001b[0m\u001b[0;34m\u001b[0m\u001b[0m\n\u001b[1;32m      3\u001b[0m \u001b[0mEmpleados\u001b[0m\u001b[0;34m.\u001b[0m\u001b[0mtail\u001b[0m\u001b[0;34m(\u001b[0m\u001b[0;34m)\u001b[0m\u001b[0;34m\u001b[0m\u001b[0;34m\u001b[0m\u001b[0m\n",
            "\u001b[0;32m/usr/local/lib/python3.6/dist-packages/pandas/io/parsers.py\u001b[0m in \u001b[0;36mread_csv\u001b[0;34m(filepath_or_buffer, sep, delimiter, header, names, index_col, usecols, squeeze, prefix, mangle_dupe_cols, dtype, engine, converters, true_values, false_values, skipinitialspace, skiprows, skipfooter, nrows, na_values, keep_default_na, na_filter, verbose, skip_blank_lines, parse_dates, infer_datetime_format, keep_date_col, date_parser, dayfirst, cache_dates, iterator, chunksize, compression, thousands, decimal, lineterminator, quotechar, quoting, doublequote, escapechar, comment, encoding, dialect, error_bad_lines, warn_bad_lines, delim_whitespace, low_memory, memory_map, float_precision)\u001b[0m\n\u001b[1;32m    686\u001b[0m     )\n\u001b[1;32m    687\u001b[0m \u001b[0;34m\u001b[0m\u001b[0m\n\u001b[0;32m--> 688\u001b[0;31m     \u001b[0;32mreturn\u001b[0m \u001b[0m_read\u001b[0m\u001b[0;34m(\u001b[0m\u001b[0mfilepath_or_buffer\u001b[0m\u001b[0;34m,\u001b[0m \u001b[0mkwds\u001b[0m\u001b[0;34m)\u001b[0m\u001b[0;34m\u001b[0m\u001b[0;34m\u001b[0m\u001b[0m\n\u001b[0m\u001b[1;32m    689\u001b[0m \u001b[0;34m\u001b[0m\u001b[0m\n\u001b[1;32m    690\u001b[0m \u001b[0;34m\u001b[0m\u001b[0m\n",
            "\u001b[0;32m/usr/local/lib/python3.6/dist-packages/pandas/io/parsers.py\u001b[0m in \u001b[0;36m_read\u001b[0;34m(filepath_or_buffer, kwds)\u001b[0m\n\u001b[1;32m    458\u001b[0m \u001b[0;34m\u001b[0m\u001b[0m\n\u001b[1;32m    459\u001b[0m     \u001b[0;32mtry\u001b[0m\u001b[0;34m:\u001b[0m\u001b[0;34m\u001b[0m\u001b[0;34m\u001b[0m\u001b[0m\n\u001b[0;32m--> 460\u001b[0;31m         \u001b[0mdata\u001b[0m \u001b[0;34m=\u001b[0m \u001b[0mparser\u001b[0m\u001b[0;34m.\u001b[0m\u001b[0mread\u001b[0m\u001b[0;34m(\u001b[0m\u001b[0mnrows\u001b[0m\u001b[0;34m)\u001b[0m\u001b[0;34m\u001b[0m\u001b[0;34m\u001b[0m\u001b[0m\n\u001b[0m\u001b[1;32m    461\u001b[0m     \u001b[0;32mfinally\u001b[0m\u001b[0;34m:\u001b[0m\u001b[0;34m\u001b[0m\u001b[0;34m\u001b[0m\u001b[0m\n\u001b[1;32m    462\u001b[0m         \u001b[0mparser\u001b[0m\u001b[0;34m.\u001b[0m\u001b[0mclose\u001b[0m\u001b[0;34m(\u001b[0m\u001b[0;34m)\u001b[0m\u001b[0;34m\u001b[0m\u001b[0;34m\u001b[0m\u001b[0m\n",
            "\u001b[0;32m/usr/local/lib/python3.6/dist-packages/pandas/io/parsers.py\u001b[0m in \u001b[0;36mread\u001b[0;34m(self, nrows)\u001b[0m\n\u001b[1;32m   1196\u001b[0m     \u001b[0;32mdef\u001b[0m \u001b[0mread\u001b[0m\u001b[0;34m(\u001b[0m\u001b[0mself\u001b[0m\u001b[0;34m,\u001b[0m \u001b[0mnrows\u001b[0m\u001b[0;34m=\u001b[0m\u001b[0;32mNone\u001b[0m\u001b[0;34m)\u001b[0m\u001b[0;34m:\u001b[0m\u001b[0;34m\u001b[0m\u001b[0;34m\u001b[0m\u001b[0m\n\u001b[1;32m   1197\u001b[0m         \u001b[0mnrows\u001b[0m \u001b[0;34m=\u001b[0m \u001b[0m_validate_integer\u001b[0m\u001b[0;34m(\u001b[0m\u001b[0;34m\"nrows\"\u001b[0m\u001b[0;34m,\u001b[0m \u001b[0mnrows\u001b[0m\u001b[0;34m)\u001b[0m\u001b[0;34m\u001b[0m\u001b[0;34m\u001b[0m\u001b[0m\n\u001b[0;32m-> 1198\u001b[0;31m         \u001b[0mret\u001b[0m \u001b[0;34m=\u001b[0m \u001b[0mself\u001b[0m\u001b[0;34m.\u001b[0m\u001b[0m_engine\u001b[0m\u001b[0;34m.\u001b[0m\u001b[0mread\u001b[0m\u001b[0;34m(\u001b[0m\u001b[0mnrows\u001b[0m\u001b[0;34m)\u001b[0m\u001b[0;34m\u001b[0m\u001b[0;34m\u001b[0m\u001b[0m\n\u001b[0m\u001b[1;32m   1199\u001b[0m \u001b[0;34m\u001b[0m\u001b[0m\n\u001b[1;32m   1200\u001b[0m         \u001b[0;31m# May alter columns / col_dict\u001b[0m\u001b[0;34m\u001b[0m\u001b[0;34m\u001b[0m\u001b[0;34m\u001b[0m\u001b[0m\n",
            "\u001b[0;32m/usr/local/lib/python3.6/dist-packages/pandas/io/parsers.py\u001b[0m in \u001b[0;36mread\u001b[0;34m(self, nrows)\u001b[0m\n\u001b[1;32m   2155\u001b[0m     \u001b[0;32mdef\u001b[0m \u001b[0mread\u001b[0m\u001b[0;34m(\u001b[0m\u001b[0mself\u001b[0m\u001b[0;34m,\u001b[0m \u001b[0mnrows\u001b[0m\u001b[0;34m=\u001b[0m\u001b[0;32mNone\u001b[0m\u001b[0;34m)\u001b[0m\u001b[0;34m:\u001b[0m\u001b[0;34m\u001b[0m\u001b[0;34m\u001b[0m\u001b[0m\n\u001b[1;32m   2156\u001b[0m         \u001b[0;32mtry\u001b[0m\u001b[0;34m:\u001b[0m\u001b[0;34m\u001b[0m\u001b[0;34m\u001b[0m\u001b[0m\n\u001b[0;32m-> 2157\u001b[0;31m             \u001b[0mdata\u001b[0m \u001b[0;34m=\u001b[0m \u001b[0mself\u001b[0m\u001b[0;34m.\u001b[0m\u001b[0m_reader\u001b[0m\u001b[0;34m.\u001b[0m\u001b[0mread\u001b[0m\u001b[0;34m(\u001b[0m\u001b[0mnrows\u001b[0m\u001b[0;34m)\u001b[0m\u001b[0;34m\u001b[0m\u001b[0;34m\u001b[0m\u001b[0m\n\u001b[0m\u001b[1;32m   2158\u001b[0m         \u001b[0;32mexcept\u001b[0m \u001b[0mStopIteration\u001b[0m\u001b[0;34m:\u001b[0m\u001b[0;34m\u001b[0m\u001b[0;34m\u001b[0m\u001b[0m\n\u001b[1;32m   2159\u001b[0m             \u001b[0;32mif\u001b[0m \u001b[0mself\u001b[0m\u001b[0;34m.\u001b[0m\u001b[0m_first_chunk\u001b[0m\u001b[0;34m:\u001b[0m\u001b[0;34m\u001b[0m\u001b[0;34m\u001b[0m\u001b[0m\n",
            "\u001b[0;32mpandas/_libs/parsers.pyx\u001b[0m in \u001b[0;36mpandas._libs.parsers.TextReader.read\u001b[0;34m()\u001b[0m\n",
            "\u001b[0;32mpandas/_libs/parsers.pyx\u001b[0m in \u001b[0;36mpandas._libs.parsers.TextReader._read_low_memory\u001b[0;34m()\u001b[0m\n",
            "\u001b[0;32mpandas/_libs/parsers.pyx\u001b[0m in \u001b[0;36mpandas._libs.parsers.TextReader._read_rows\u001b[0;34m()\u001b[0m\n",
            "\u001b[0;32mpandas/_libs/parsers.pyx\u001b[0m in \u001b[0;36mpandas._libs.parsers.TextReader._tokenize_rows\u001b[0;34m()\u001b[0m\n",
            "\u001b[0;32mpandas/_libs/parsers.pyx\u001b[0m in \u001b[0;36mpandas._libs.parsers.raise_parser_error\u001b[0;34m()\u001b[0m\n",
            "\u001b[0;31mParserError\u001b[0m: Error tokenizing data. C error: Expected 1 fields in line 55, saw 2\n"
          ]
        }
      ]
    },
    {
      "cell_type": "code",
      "metadata": {
        "id": "p5igIr2EUGAJ"
      },
      "source": [
        "# muestra los nombres de las variables del Dataframe (Tabla de datos) Empleados\n",
        "Empleados.columns.values\n",
        "# diccionario para cambiar nombres de las variables\n",
        "cambio={'Años estudio':'Anios_estudio', 'Estado Civil':'Estado_civil', \n",
        "        'Satisfacción Trabajo':'Satisfaccion_trabajo', 'Fecha contrato':'Fecha_contrato'}\n",
        "# Renombra las variables del dataframe \"Empleados\" utilizando el diccionario \"cambio\"\n",
        "Empleados.rename(columns=cambio,inplace=True)\n",
        "Empleados.head()"
      ],
      "execution_count": null,
      "outputs": []
    },
    {
      "cell_type": "markdown",
      "metadata": {
        "id": "oaXoMXirXY20"
      },
      "source": [
        "# Identificación y manejo de datos perdidos"
      ]
    },
    {
      "cell_type": "code",
      "metadata": {
        "id": "CWAlVcMyriem",
        "colab": {
          "base_uri": "https://localhost:8080/",
          "height": 35
        },
        "outputId": "2fd96dad-fd48-4626-db75-336beb082d7e"
      },
      "source": [
        "# Dimensiones del dataframe\n",
        "Empleados.shape\n",
        "# Eliminar datos perdidos por filas o casos\n",
        "Empleados.dropna()\n",
        "# Eliminar datos perdidos por variables o columnas\n",
        "Empleados.dropna(axis=1)\n",
        "# Muestra las dimensiones de los 3 dataframes anteriores\n",
        "print(Empleados.shape,Empleados.dropna().shape,Empleados.dropna(axis=1).shape)"
      ],
      "execution_count": null,
      "outputs": [
        {
          "output_type": "stream",
          "text": [
            "(30, 12) (0, 12) (30, 3)\n"
          ],
          "name": "stdout"
        }
      ]
    },
    {
      "cell_type": "code",
      "metadata": {
        "id": "CSLoIKbvXhkW",
        "colab": {
          "base_uri": "https://localhost:8080/",
          "height": 544
        },
        "outputId": "8ae78e0a-a4d9-4238-87f4-69ca872b120b"
      },
      "source": [
        "# Dataframe de verdaderos y falsos, verdadero significa que es dato perdido y falso lo contrario\n",
        "Empleados.isnull()\n",
        "# Cantidad de datos perdidos por columnas\n",
        "Empleados.isnull().sum()\n",
        "# Total de datos por columna\n",
        "Empleados.isnull().count()\n",
        "# Cociente de datos perdidos sobre total por columna\n",
        "Empleados.isnull().sum()/Empleados.isnull().count()\n",
        "# ordenando en forma descendente\n",
        "(Empleados.isnull().sum()/Empleados.isnull().count()).sort_values(ascending = False)\n",
        "# Proporciones de datos perdidos por fila o caso (axis=1)\n",
        "(Empleados.isnull().sum(axis=1)/Empleados.isnull().count(axis=1)).sort_values(ascending = False)"
      ],
      "execution_count": null,
      "outputs": [
        {
          "output_type": "execute_result",
          "data": {
            "text/plain": [
              "3     0.666667\n",
              "5     0.583333\n",
              "8     0.583333\n",
              "1     0.500000\n",
              "10    0.416667\n",
              "29    0.333333\n",
              "12    0.333333\n",
              "15    0.166667\n",
              "2     0.166667\n",
              "6     0.166667\n",
              "7     0.166667\n",
              "11    0.166667\n",
              "13    0.166667\n",
              "14    0.166667\n",
              "16    0.166667\n",
              "18    0.166667\n",
              "19    0.166667\n",
              "20    0.166667\n",
              "21    0.166667\n",
              "23    0.166667\n",
              "25    0.166667\n",
              "26    0.166667\n",
              "27    0.166667\n",
              "28    0.083333\n",
              "17    0.083333\n",
              "9     0.083333\n",
              "22    0.083333\n",
              "24    0.083333\n",
              "4     0.083333\n",
              "0     0.083333\n",
              "dtype: float64"
            ]
          },
          "metadata": {
            "tags": []
          },
          "execution_count": 5
        }
      ]
    },
    {
      "cell_type": "code",
      "metadata": {
        "id": "6VwMBQr7sBty",
        "colab": {
          "base_uri": "https://localhost:8080/",
          "height": 35
        },
        "outputId": "64878101-adba-4e2b-b1ae-c71374995100"
      },
      "source": [
        "# lista de empleados a eliminar\n",
        "casosborrar=[3,5,8]\n",
        "# Elimina los empleados con muchos datos perdidos\n",
        "Empleados=Empleados.drop(casosborrar)\n",
        "# lista de variables a eliminar\n",
        "varborrar=['Faltas','Permisos']\n",
        "# Elimina las variables con muchos datos perdidos, axis=1 es para eliminar por columnas\n",
        "Empleados=Empleados.drop(varborrar,axis=1)\n",
        "Empleados.columns\n",
        "Empleados.shape"
      ],
      "execution_count": null,
      "outputs": [
        {
          "output_type": "execute_result",
          "data": {
            "text/plain": [
              "(27, 10)"
            ]
          },
          "metadata": {
            "tags": []
          },
          "execution_count": 6
        }
      ]
    },
    {
      "cell_type": "code",
      "metadata": {
        "id": "cfXp0xi7sFAf",
        "colab": {
          "base_uri": "https://localhost:8080/",
          "height": 261
        },
        "outputId": "804c2b3c-0dbe-4fb0-f18f-64b76aa62d6e"
      },
      "source": [
        "# cantidad de perdidos por filas\n",
        "Empleados.isnull().sum(axis=1)\n",
        "# condición de que la cantidad de perdidos por fila es distinta de cero\n",
        "cond=Empleados.isnull().sum(axis=1) != 0\n",
        "Empleados[cond]"
      ],
      "execution_count": null,
      "outputs": [
        {
          "output_type": "execute_result",
          "data": {
            "text/html": [
              "<div>\n",
              "<style scoped>\n",
              "    .dataframe tbody tr th:only-of-type {\n",
              "        vertical-align: middle;\n",
              "    }\n",
              "\n",
              "    .dataframe tbody tr th {\n",
              "        vertical-align: top;\n",
              "    }\n",
              "\n",
              "    .dataframe thead th {\n",
              "        text-align: right;\n",
              "    }\n",
              "</style>\n",
              "<table border=\"1\" class=\"dataframe\">\n",
              "  <thead>\n",
              "    <tr style=\"text-align: right;\">\n",
              "      <th></th>\n",
              "      <th>Nombres</th>\n",
              "      <th>Apellidos</th>\n",
              "      <th>Sexo</th>\n",
              "      <th>Edad</th>\n",
              "      <th>Anios_estudio</th>\n",
              "      <th>Ingresos</th>\n",
              "      <th>Gastos</th>\n",
              "      <th>Estado_civil</th>\n",
              "      <th>Satisfaccion_trabajo</th>\n",
              "      <th>Fecha_contrato</th>\n",
              "    </tr>\n",
              "  </thead>\n",
              "  <tbody>\n",
              "    <tr>\n",
              "      <th>1</th>\n",
              "      <td>Teresa Marina</td>\n",
              "      <td>Bracamonte Palma</td>\n",
              "      <td>Mujer</td>\n",
              "      <td>NaN</td>\n",
              "      <td>23.0</td>\n",
              "      <td>NaN</td>\n",
              "      <td>NaN</td>\n",
              "      <td>Soltero(a)</td>\n",
              "      <td>NaN</td>\n",
              "      <td>NaN</td>\n",
              "    </tr>\n",
              "    <tr>\n",
              "      <th>10</th>\n",
              "      <td>Ramiro Ricardo</td>\n",
              "      <td>Gonzáles Paz</td>\n",
              "      <td>Hombre</td>\n",
              "      <td>56.0</td>\n",
              "      <td>NaN</td>\n",
              "      <td>2117.0</td>\n",
              "      <td>1217.0</td>\n",
              "      <td>NaN</td>\n",
              "      <td>NaN</td>\n",
              "      <td>NaN</td>\n",
              "    </tr>\n",
              "    <tr>\n",
              "      <th>12</th>\n",
              "      <td>Saúl</td>\n",
              "      <td>Guzmán Cáceres</td>\n",
              "      <td>Hombre</td>\n",
              "      <td>37.0</td>\n",
              "      <td>NaN</td>\n",
              "      <td>2137.0</td>\n",
              "      <td>3771.0</td>\n",
              "      <td>NaN</td>\n",
              "      <td>NaN</td>\n",
              "      <td>9/1/2015</td>\n",
              "    </tr>\n",
              "    <tr>\n",
              "      <th>29</th>\n",
              "      <td>Ernesto</td>\n",
              "      <td>Zurita Ramallo</td>\n",
              "      <td>Hombre</td>\n",
              "      <td>55.0</td>\n",
              "      <td>5.0</td>\n",
              "      <td>3640.0</td>\n",
              "      <td>5528.0</td>\n",
              "      <td>Viudo(a)</td>\n",
              "      <td>NaN</td>\n",
              "      <td>NaN</td>\n",
              "    </tr>\n",
              "  </tbody>\n",
              "</table>\n",
              "</div>"
            ],
            "text/plain": [
              "           Nombres         Apellidos  ... Satisfaccion_trabajo  Fecha_contrato\n",
              "1    Teresa Marina  Bracamonte Palma  ...                  NaN             NaN\n",
              "10  Ramiro Ricardo      Gonzáles Paz  ...                  NaN             NaN\n",
              "12            Saúl    Guzmán Cáceres  ...                  NaN        9/1/2015\n",
              "29         Ernesto    Zurita Ramallo  ...                  NaN             NaN\n",
              "\n",
              "[4 rows x 10 columns]"
            ]
          },
          "metadata": {
            "tags": []
          },
          "execution_count": 7
        }
      ]
    },
    {
      "cell_type": "code",
      "metadata": {
        "id": "fKuA4vhHreOS"
      },
      "source": [
        "# lista de variables categóricas o cualitativas\n",
        "varcategoricas=['Sexo','Estado_civil','Satisfaccion_trabajo']\n",
        "# rellenar los datos perdidos de las variables cualitativas con \"Desconocido\"\n",
        "Empleados[varcategoricas]=Empleados[varcategoricas].fillna('Desconocido')"
      ],
      "execution_count": null,
      "outputs": []
    },
    {
      "cell_type": "markdown",
      "metadata": {
        "id": "d602wduwUpiG"
      },
      "source": [
        "# Formateando datos"
      ]
    },
    {
      "cell_type": "code",
      "metadata": {
        "id": "H55ochzoRYEU"
      },
      "source": [
        "#Accediendo a la variable \"Nombres\"\n",
        "Empleados.Nombres\n",
        "#Accede al primer carácter de la variable\n",
        "Empleados.Nombres.str[0]\n",
        "#Accede al segundo carácter de la variable\n",
        "Empleados.Nombres.str[1]\n",
        "#Accede a los 3 primeros caracteres de la variable\n",
        "Empleados.Nombres.str.slice(3)\n",
        "#Concatenando strings (cadenas de caracteres) con \"+\" y lo guardo en \"cod\"\n",
        "cod=Empleados.Nombres.str[0]+Empleados.Apellidos.str[0]+Empleados.Fecha_contrato.str.slice(-4)\n",
        "#Establece el index en el dataframe \"Empleados\"\n",
        "Empleados.set_index(cod,inplace=True)\n",
        "#Valores del index\n",
        "Empleados.index.values\n",
        "#otro index\n",
        "Empleados.set_index([Empleados.Nombres,Empleados.Apellidos])"
      ],
      "execution_count": null,
      "outputs": []
    },
    {
      "cell_type": "code",
      "metadata": {
        "id": "vRm4ExjIQ055"
      },
      "source": [
        "# Los tipos de variables\n",
        "Empleados.dtypes\n",
        "Empleados.info()"
      ],
      "execution_count": null,
      "outputs": []
    },
    {
      "cell_type": "code",
      "metadata": {
        "id": "j3AMZVKJyg4b"
      },
      "source": [
        "#Cambia el tipo de variables de \"varcategoricas\", de \"object\" a \"category\"\n",
        "Empleados[varcategoricas]=Empleados[varcategoricas].astype('category')\n",
        "#muestra el tipo de variable\n",
        "Empleados.Sexo.dtype\n",
        "Empleados.Estado_civil.dtype\n",
        "#Cambia la variable Fecha_contrato, de \"object\" a \"datetime\"\n",
        "Empleados['Fecha_contrato']=pd.to_datetime(Empleados.Fecha_contrato)"
      ],
      "execution_count": null,
      "outputs": []
    },
    {
      "cell_type": "code",
      "metadata": {
        "id": "TRPbqLNF9_vm"
      },
      "source": [
        "#Acceder a los valores de las categorías\n",
        "Empleados.Sexo.cat.categories.values\n",
        "#Accediendo a elementos\n",
        "Empleados.Estado_civil.cat.categories.values[0]\n",
        "Empleados.Estado_civil.cat.categories.values[2]\n",
        "Empleados.Estado_civil.cat.categories.values[[0,2]]\n",
        "Empleados.Estado_civil.cat.categories.values[[3,1]]\n",
        "#muestra en el orden buscado\n",
        "Empleados.Estado_civil.cat.categories.values[[3,0,2,4,1]]\n",
        "#lo convierte en lista\n",
        "Empleados.Estado_civil.cat.categories.values[[3,0,2,4,1]].tolist()\n",
        "#guarda la lista en orden_ec\n",
        "orden_ec=Empleados.Estado_civil.cat.categories.values[[3,0,2,4,1]].tolist()\n",
        "#guarda la lista de satisfaccion en orden_st\n",
        "orden_st=Empleados.Satisfaccion_trabajo.cat.categories.values[[2,3,0,1]].tolist()\n",
        "#orden_st=['Mal', 'Regular', 'Bien', 'Desconocido']\n",
        "#cambia el orden según la lista orden_ec\n",
        "Empleados.Estado_civil.cat.reorder_categories(orden_ec)\n",
        "#Guardar el orden nuevo\n",
        "Empleados.Estado_civil=Empleados.Estado_civil.cat.reorder_categories(orden_ec)\n",
        "Empleados['Estado_civil']=Empleados.Estado_civil.cat.reorder_categories(orden_ec)\n",
        "#Guarda el nuevo orden de categorías de la variable satisfacción\n",
        "Empleados['Satisfaccion_trabajo']=Empleados.Satisfaccion_trabajo.cat.reorder_categories(orden_st)\n",
        "Empleados.Satisfaccion_trabajo.cat.categories\n",
        "#Renombra las categorías\n",
        "Empleados['Satisfaccion_trabajo']=Empleados.Satisfaccion_trabajo.cat.rename_categories(\n",
        "    ['Insatisfecho(a)','Neutral','Satisfecho(a)','Desconocido'])"
      ],
      "execution_count": null,
      "outputs": []
    },
    {
      "cell_type": "markdown",
      "metadata": {
        "id": "QgyE7Gt1jq4q"
      },
      "source": [
        "# Localización de datos"
      ]
    },
    {
      "cell_type": "code",
      "metadata": {
        "id": "3M0KCzEvX4Vz"
      },
      "source": [
        "#Lista de variables, subconjunto de variables del dataframe\n",
        "variables=['Apellidos','Nombres','Edad','Estado_civil','Fecha_contrato']\n",
        "Empleados[variables] #dataframe con las variables seleccionadas\n",
        "Empleados.loc[:,variables] #lo mismo que el anterior\n",
        "#Lista de casos de algún interés particular\n",
        "casos=['VC2009','MF2009','PG2013','AM2015']\n",
        "#Selecciona esos casos de interés\n",
        "Empleados.loc[casos,:]\n",
        "#Selecciona esos casos de interés y las variables de interés\n",
        "Empleados.loc[casos,variables]\n",
        "#Selecciona casos consecutivos y variables consecutivas\n",
        "Empleados.loc['VC2009':'JG2011','Sexo':'Gastos']\n",
        "#combinar\n",
        "Empleados.loc[casos,'Anios_estudio':'Gastos']"
      ],
      "execution_count": null,
      "outputs": []
    },
    {
      "cell_type": "code",
      "metadata": {
        "id": "le_6TPlzR-cZ"
      },
      "source": [
        "#selecciona casos desde el 4 al 13 y variables de la 4ta a la 6ta\n",
        "Empleados.iloc[4:14,4:7]\n",
        "casos=[3,6,11,22] #lista de id's de casos\n",
        "variables=[1,4,8] #lista de id's de variables\n",
        "#selecciona datos de aceurdo a las listas anteriores\n",
        "Empleados.iloc[casos,variables]\n",
        "#selecciona todas las filas\n",
        "Empleados.iloc[:,variables]\n",
        "#selecciona todas las variables\n",
        "Empleados.iloc[casos,:]"
      ],
      "execution_count": null,
      "outputs": []
    },
    {
      "cell_type": "markdown",
      "metadata": {
        "id": "E1sTQD7ljymR"
      },
      "source": [
        "# Selección de datos"
      ]
    },
    {
      "cell_type": "code",
      "metadata": {
        "id": "63nTCP2xT6vb"
      },
      "source": [
        "#Selecciona a todas las mujeres del dataframe\n",
        "Empleados[Empleados.Sexo=='Mujer']\n",
        "#Selecciona a todas las mujeres solteras del dataframe\n",
        "Empleados[(Empleados.Sexo=='Mujer') & (Empleados.Estado_civil=='Soltero(a)')]\n",
        "#guarda en condicion1 la selección de mujeres solteras o cualquier divorciado\n",
        "condicion1=(Empleados.Sexo=='Mujer') & (Empleados.Estado_civil=='Soltero(a)') | (Empleados.Estado_civil=='Divorciado(a)')\n",
        "#ejecuta la selección con la condicion1\n",
        "Empleados[condicion1]\n",
        "#guarda en condicion2 la selección de mujeres que sean solteras o divorciadas\n",
        "condicion2=(Empleados.Sexo=='Mujer') & ((Empleados.Estado_civil=='Soltero(a)') | (Empleados.Estado_civil=='Divorciado(a)'))\n",
        "Empleados[condicion2]\n",
        "#guarda en condicion3 la selección de menores de 40 años y cuya fecha de contrato es posterior a 2015-01-01\n",
        "condicion3=(Empleados.Edad<40) & (Empleados.Fecha_contrato>'2015-01-01')\n",
        "Empleados[condicion3]\n",
        "#guarda en condicion4 la selección de menores de 40 años y cuya fecha de contrato es anterior a 2015-01-01\n",
        "condicion4=(Empleados.Edad<40) & ~(Empleados.Fecha_contrato>'2015-01-01')\n",
        "Empleados[condicion4]\n",
        "#más complejo\n",
        "Empleados[condicion1 | condicion4]"
      ],
      "execution_count": null,
      "outputs": []
    },
    {
      "cell_type": "markdown",
      "metadata": {
        "id": "3kh-Yy1sEGXs"
      },
      "source": [
        "# Transformación y eliminación de variables"
      ]
    },
    {
      "cell_type": "code",
      "metadata": {
        "id": "aNr0wl2FlfB6"
      },
      "source": [
        "# Crea la variable experiencia en el dataframe Empleados\n",
        "Empleados['Experiencia_lab']=Empleados.Edad-Empleados.Anios_estudio-5\n",
        "# Crea la variable Balance\n",
        "Empleados['Balance']=Empleados.Ingresos-Empleados.Gastos\n",
        "# Otras variables creadas \"np.log\" obtiene el logaritmo de su argumento\n",
        "Empleados['log_exp']=np.log(Empleados.Edad)/np.exp(Empleados.Anios_estudio)\n",
        "Empleados['log_exp2']=np.log(Empleados.Edad)-np.exp(Empleados.Anios_estudio)\n",
        "# Crea una lista de variables a eliminar\n",
        "aborrar=['log_exp','log_exp2']\n",
        "# Elimina las variables de la lista aborrar, del dataframe ((axis=1) es por columnas)\n",
        "Empleados=Empleados.drop(aborrar,axis=1)"
      ],
      "execution_count": null,
      "outputs": []
    },
    {
      "cell_type": "markdown",
      "metadata": {
        "id": "Oyg2KKjK41qo"
      },
      "source": [
        "# Normalizaciones"
      ]
    },
    {
      "cell_type": "code",
      "metadata": {
        "id": "TzWe1-DJ2FoG"
      },
      "source": [
        "from sklearn.preprocessing import StandardScaler\n",
        "from sklearn.preprocessing import MinMaxScaler"
      ],
      "execution_count": null,
      "outputs": []
    },
    {
      "cell_type": "code",
      "metadata": {
        "id": "TmvO6oi11_dk"
      },
      "source": [
        "# crea una instancia de la función de escalamiento mediante estandarización\n",
        "SS=StandardScaler()\n",
        "# crea una instancia de la función de escalamiento entre 0 y 1\n",
        "MM=MinMaxScaler()\n",
        "# lista de variables a normalizar\n",
        "varcuantis=['Edad','Anios_estudio','Ingresos','Gastos','Experiencia_lab','Balance']\n",
        "# Estandariza las variables cuantitativas con media 0 y desviación estándar 1\n",
        "datos_estand = SS.fit_transform(Empleados[varcuantis])\n",
        "# Guardar en un dataframe aparte\n",
        "datos_estand = pd.DataFrame(datos_estand)\n",
        "# Normaliza las variables tal que el máximo sea 1 y el mínimo 0\n",
        "datos_norm01 = MM.fit_transform(Empleados[varcuantis])\n",
        "# Guardar en un dataframe aparte\n",
        "datos_norm01 = pd.DataFrame(datos_norm01)\n",
        "\n",
        "(Empleados[varcuantis]-Empleados[varcuantis].mean())/Empleados[varcuantis].std()\n",
        "(Empleados[varcuantis]-Empleados[varcuantis].min())/(Empleados[varcuantis].max()-Empleados[varcuantis].min())"
      ],
      "execution_count": null,
      "outputs": []
    },
    {
      "cell_type": "markdown",
      "metadata": {
        "id": "th2E6b-x5Xaj"
      },
      "source": [
        "# Binning"
      ]
    },
    {
      "cell_type": "code",
      "metadata": {
        "id": "kCYz7U0t4I9S"
      },
      "source": [
        "#ingreso mínimo\n",
        "Empleados.Ingresos.min()\n",
        "#ingreso máximo\n",
        "Empleados.Ingresos.max()\n",
        "#rango de ingresos\n",
        "Empleados.Ingresos.max()-Empleados.Ingresos.min()\n",
        "#crear un mínimo menor al mínimo observado\n",
        "ing_min=int(Empleados.Ingresos.min()-3)\n",
        "#crear un máximo mayor al máximo observado\n",
        "ing_max=int(Empleados.Ingresos.max()+5)\n",
        "#obtiene la amplitud de cada grupo\n",
        "ing_ampl=int((ing_max-ing_min)/10)\n",
        "#crea un rango de números igual que range()\n",
        "np.arange(1,106,7)\n",
        "#crea las etiquetas de los intervalos\n",
        "intervalos = [\"{0} - {1}\".format(i+1,i+ing_ampl) for i in range(ing_min,ing_max,ing_ampl)]\n",
        "#crea los cortes de la variable ingresos\n",
        "cortes = range(ing_min, ing_max+ing_ampl, ing_ampl)\n",
        "#divide a la variable ingresos según los cortes y las etiqueta\n",
        "Empleados['Ingreso_agrup']=pd.cut(Empleados.Ingresos,cortes,labels=intervalos)\n",
        "#Visualiza ambos ingresos\n",
        "Empleados[['Ingresos','Ingreso_agrup']]"
      ],
      "execution_count": null,
      "outputs": []
    },
    {
      "cell_type": "markdown",
      "metadata": {
        "id": "HfUdETfc6S06"
      },
      "source": [
        "# Variables indicadoras"
      ]
    },
    {
      "cell_type": "code",
      "metadata": {
        "id": "m1DchxPg6XBp"
      },
      "source": [
        "#crea variables dicotómicas para Estado Civil\n",
        "pd.get_dummies(Empleados.Estado_civil)\n",
        "#crea variables dicotómicas para Estado Civil e incluye una dummy para los perdidos\n",
        "pd.get_dummies(Empleados.Estado_civil,dummy_na=True)\n",
        "#crea variables dicotómicas para toda las variables categóricas, se debe introducir prefijos de las\n",
        "#variables categóricas para diferenciarlas\n",
        "pd.get_dummies(Empleados[varcategoricas],prefix=['SX_','EC_','SAT_'])"
      ],
      "execution_count": null,
      "outputs": []
    }
  ]
}